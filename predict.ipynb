{
 "cells": [
  {
   "cell_type": "code",
   "execution_count": 6,
   "metadata": {},
   "outputs": [],
   "source": [
    "import pickle\n",
    "import pandas as pd\n",
    "\n",
    "movies_data = pickle.load(open('movies.pkl','rb'))\n",
    "similarity_metric = pickle.load(open('similarity_movie_metric.pkl','rb'))"
   ]
  },
  {
   "cell_type": "code",
   "execution_count": 7,
   "metadata": {},
   "outputs": [],
   "source": [
    "\n",
    "movies = pd.DataFrame(movies_data)"
   ]
  },
  {
   "cell_type": "code",
   "execution_count": 8,
   "metadata": {},
   "outputs": [],
   "source": [
    "def recommand_movie(movie):\n",
    "    recommanded_movies = []\n",
    "    index_movie_data = movies[movies['title'] == movie]\n",
    "\n",
    "    if index_movie_data.empty:\n",
    "        return recommanded_movies\n",
    "\n",
    "    movie_index = index_movie_data.index[0]\n",
    "    distances = similarity_metric[movie_index]\n",
    "\n",
    "    similar_movie = sorted(list(enumerate(distances)), reverse=True, key=lambda x:x[1])[1:6]\n",
    "\n",
    "    for i in similar_movie:\n",
    "        recommanded_movies.append(movies.iloc[i[0]].title)\n",
    "    return recommanded_movies"
   ]
  },
  {
   "cell_type": "code",
   "execution_count": 9,
   "metadata": {},
   "outputs": [
    {
     "data": {
      "text/plain": [
       "['Lifeforce',\n",
       " 'Aliens vs Predator: Requiem',\n",
       " 'Aliens',\n",
       " 'Battle: Los Angeles',\n",
       " 'Titan A.E.']"
      ]
     },
     "execution_count": 9,
     "metadata": {},
     "output_type": "execute_result"
    }
   ],
   "source": [
    "recommand_movie('Avatar')"
   ]
  },
  {
   "cell_type": "code",
   "execution_count": null,
   "metadata": {},
   "outputs": [],
   "source": []
  }
 ],
 "metadata": {
  "kernelspec": {
   "display_name": "Python 3",
   "language": "python",
   "name": "python3"
  },
  "language_info": {
   "codemirror_mode": {
    "name": "ipython",
    "version": 3
   },
   "file_extension": ".py",
   "mimetype": "text/x-python",
   "name": "python",
   "nbconvert_exporter": "python",
   "pygments_lexer": "ipython3",
   "version": "3.9.6"
  },
  "orig_nbformat": 4,
  "vscode": {
   "interpreter": {
    "hash": "7e73b09267218e3a1d59db5a5bf9ae904bb8a1c001c478bb252b86afd65a654f"
   }
  }
 },
 "nbformat": 4,
 "nbformat_minor": 2
}
